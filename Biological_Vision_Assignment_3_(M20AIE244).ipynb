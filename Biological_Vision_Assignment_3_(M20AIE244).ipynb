{
  "nbformat": 4,
  "nbformat_minor": 0,
  "metadata": {
    "colab": {
      "provenance": [],
      "collapsed_sections": [],
      "authorship_tag": "ABX9TyPzLlqhy5Mz7bSDQ1Yw4cws",
      "include_colab_link": true
    },
    "kernelspec": {
      "name": "python3",
      "display_name": "Python 3"
    },
    "language_info": {
      "name": "python"
    }
  },
  "cells": [
    {
      "cell_type": "markdown",
      "metadata": {
        "id": "view-in-github",
        "colab_type": "text"
      },
      "source": [
        "<a href=\"https://colab.research.google.com/github/joshikavita01/streamlit-demo/blob/master/Biological_Vision_Assignment_3_(M20AIE244).ipynb\" target=\"_parent\"><img src=\"https://colab.research.google.com/assets/colab-badge.svg\" alt=\"Open In Colab\"/></a>"
      ]
    },
    {
      "cell_type": "markdown",
      "source": [
        "Create a Bayesian Network with the topology as shown in the figure. Define your own priors and CPTs."
      ],
      "metadata": {
        "id": "8JfcbjR8pU4x"
      }
    },
    {
      "cell_type": "markdown",
      "source": [
        "Install pomegranate using pip\n",
        "\n"
      ],
      "metadata": {
        "id": "moIXdLbN8Hk8"
      }
    },
    {
      "cell_type": "code",
      "execution_count": 53,
      "metadata": {
        "colab": {
          "base_uri": "https://localhost:8080/"
        },
        "id": "KQutK4_OmANL",
        "outputId": "d76bb2c6-8fd1-462f-d474-0078146b138f"
      },
      "outputs": [
        {
          "output_type": "stream",
          "name": "stdout",
          "text": [
            "Looking in indexes: https://pypi.org/simple, https://us-python.pkg.dev/colab-wheels/public/simple/\n",
            "Requirement already satisfied: pomegranate in /usr/local/lib/python3.7/dist-packages (0.14.8)\n",
            "Requirement already satisfied: networkx>=2.4 in /usr/local/lib/python3.7/dist-packages (from pomegranate) (2.6.3)\n",
            "Requirement already satisfied: pyyaml in /usr/local/lib/python3.7/dist-packages (from pomegranate) (6.0)\n",
            "Requirement already satisfied: numpy>=1.20.0 in /usr/local/lib/python3.7/dist-packages (from pomegranate) (1.21.6)\n",
            "Requirement already satisfied: joblib>=0.9.0b4 in /usr/local/lib/python3.7/dist-packages (from pomegranate) (1.1.0)\n",
            "Requirement already satisfied: scipy>=0.17.0 in /usr/local/lib/python3.7/dist-packages (from pomegranate) (1.7.3)\n"
          ]
        }
      ],
      "source": [
        "!pip install pomegranate"
      ]
    },
    {
      "cell_type": "markdown",
      "source": [
        "import pomegranate\n",
        "\n"
      ],
      "metadata": {
        "id": "uY-iM4ci8LHo"
      }
    },
    {
      "cell_type": "code",
      "source": [
        "%matplotlib inline\n",
        "import matplotlib.pyplot as plt\n",
        "import seaborn; seaborn.set_style('whitegrid')\n",
        "import numpy as np\n",
        "from pomegranate import *\n",
        "np.random.seed(0)\n",
        "np.set_printoptions(suppress=True)"
      ],
      "metadata": {
        "id": "IoslWXmwmByg"
      },
      "execution_count": 54,
      "outputs": []
    },
    {
      "cell_type": "markdown",
      "source": [
        "The Bayesian Network Construction"
      ],
      "metadata": {
        "id": "GZ5NZGR28RsV"
      }
    },
    {
      "cell_type": "code",
      "source": [
        "Season = DiscreteDistribution({'autumn': 1./2, 'spring': 1./2})\n",
        "Place = DiscreteDistribution({'tamilnadu': 1./2, 'kashmir': 1./2})\n",
        "Fruit = ConditionalProbabilityTable(\n",
        "        [[ 'tamilnadu', 'autumn', 'apple', 0.03 ],\n",
        "         [ 'tamilnadu', 'autumn', 'banana', 0.88 ],\n",
        "         [ 'tamilnadu', 'spring', 'apple', 0.01 ],\n",
        "         [ 'tamilnadu', 'spring', 'banana', 0.88 ],\n",
        "         [ 'kashmir', 'autumn', 'banana', 0.01 ],\n",
        "         [ 'kashmir', 'autumn', 'apple', 0.88 ],\n",
        "         [ 'kashmir', 'spring', 'apple', 0.88 ],\n",
        "         [ 'kashmir', 'spring', 'banana', 0.0 ]], [Place, Season])  "
      ],
      "metadata": {
        "id": "T-Dxw-uamLtv"
      },
      "execution_count": 55,
      "outputs": []
    },
    {
      "cell_type": "code",
      "source": [
        "Color = ConditionalProbabilityTable(\n",
        "        [[ 'banana', 'red', 0.02 ],\n",
        "         [ 'banana', 'green', 0.40 ],\n",
        "         [ 'banana', 'yellow', 0.50 ],\n",
        "         [ 'apple', 'red', 0.65 ],\n",
        "         [ 'apple', 'green', 0.34 ],\n",
        "         [ 'apple', 'yellow', 0.02 ]], [Fruit])  \n",
        "\n",
        "Shape = ConditionalProbabilityTable(\n",
        "        [[ 'banana', 'round', 0.02 ],\n",
        "         [ 'banana', 'long', 0.89 ],\n",
        "         [ 'apple', 'round', 0.89 ],\n",
        "         [ 'apple', 'long', 0.01 ]], [Fruit])  \n"
      ],
      "metadata": {
        "id": "YD1_J9NzmL6F"
      },
      "execution_count": 56,
      "outputs": []
    },
    {
      "cell_type": "code",
      "source": [
        "S1 = State(Place, name=\"Place\")\n",
        "S2 = State(Season, name=\"Season\")\n",
        "S3 = State(Fruit, name=\"Fruit\")\n",
        "S4 = State(Color, name=\"Color\")\n",
        "S5 = State(Shape, name=\"Shape\")"
      ],
      "metadata": {
        "id": "pbiv84bNmSg6"
      },
      "execution_count": 57,
      "outputs": []
    },
    {
      "cell_type": "code",
      "source": [
        "model = BayesianNetwork(\"Bayesian Network Assignment-3\")\n",
        "model.add_nodes(S1, S2, S3, S4, S5)\n",
        "model.add_edge(S1, S3)\n",
        "model.add_edge(S2, S3)\n",
        "model.add_edge(S3, S4)\n",
        "model.add_edge(S3, S5)\n"
      ],
      "metadata": {
        "id": "DDN-z5tSmXwd"
      },
      "execution_count": 58,
      "outputs": []
    },
    {
      "cell_type": "code",
      "source": [
        "model.bake()\n",
        "model.freeze()"
      ],
      "metadata": {
        "id": "R1zEfDi_wFtF"
      },
      "execution_count": 59,
      "outputs": []
    },
    {
      "cell_type": "code",
      "source": [
        "model.marginal()"
      ],
      "metadata": {
        "colab": {
          "base_uri": "https://localhost:8080/"
        },
        "id": "84JbAlG-mYot",
        "outputId": "b19c49d3-58a7-4ded-8bd5-8e20f5fd8774"
      },
      "execution_count": 60,
      "outputs": [
        {
          "output_type": "execute_result",
          "data": {
            "text/plain": [
              "array([{\n",
              "           \"class\" : \"Distribution\",\n",
              "           \"dtype\" : \"str\",\n",
              "           \"name\" : \"DiscreteDistribution\",\n",
              "           \"parameters\" : [\n",
              "               {\n",
              "                   \"tamilnadu\" : 0.48422408407322026,\n",
              "                   \"kashmir\" : 0.5157759159267797\n",
              "               }\n",
              "           ],\n",
              "           \"frozen\" : false\n",
              "       }                                             ,\n",
              "       {\n",
              "           \"class\" : \"Distribution\",\n",
              "           \"dtype\" : \"str\",\n",
              "           \"name\" : \"DiscreteDistribution\",\n",
              "           \"parameters\" : [\n",
              "               {\n",
              "                   \"autumn\" : 0.5042577975166483,\n",
              "                   \"spring\" : 0.4957422024833517\n",
              "               }\n",
              "           ],\n",
              "           \"frozen\" : false\n",
              "       }                                         ,\n",
              "       {\n",
              "           \"class\" : \"Distribution\",\n",
              "           \"dtype\" : \"str\",\n",
              "           \"name\" : \"DiscreteDistribution\",\n",
              "           \"parameters\" : [\n",
              "               {\n",
              "                   \"apple\" : 0.5247520560967067,\n",
              "                   \"banana\" : 0.47524794390329334\n",
              "               }\n",
              "           ],\n",
              "           \"frozen\" : false\n",
              "       }                                         ,\n",
              "       {\n",
              "           \"class\" : \"Distribution\",\n",
              "           \"dtype\" : \"str\",\n",
              "           \"name\" : \"DiscreteDistribution\",\n",
              "           \"parameters\" : [\n",
              "               {\n",
              "                   \"yellow\" : 0.2686780558580957,\n",
              "                   \"red\" : 0.34804319631153385,\n",
              "                   \"green\" : 0.3832787478303705\n",
              "               }\n",
              "           ],\n",
              "           \"frozen\" : false\n",
              "       }                                         ,\n",
              "       {\n",
              "           \"class\" : \"Distribution\",\n",
              "           \"dtype\" : \"str\",\n",
              "           \"name\" : \"DiscreteDistribution\",\n",
              "           \"parameters\" : [\n",
              "               {\n",
              "                   \"round\" : 0.5293664874517486,\n",
              "                   \"long\" : 0.47063351254825136\n",
              "               }\n",
              "           ],\n",
              "           \"frozen\" : false\n",
              "       }                                        ], dtype=object)"
            ]
          },
          "metadata": {},
          "execution_count": 60
        }
      ]
    },
    {
      "cell_type": "markdown",
      "source": [
        "Calculating the Probabilities"
      ],
      "metadata": {
        "id": "8PqVtmPD8YQQ"
      }
    },
    {
      "cell_type": "markdown",
      "source": [
        "1."
      ],
      "metadata": {
        "id": "HcalXD6nzOlr"
      }
    },
    {
      "cell_type": "code",
      "source": [
        "model.predict_proba([['kashmir', 'autumn', None, 'green', 'long']])"
      ],
      "metadata": {
        "colab": {
          "base_uri": "https://localhost:8080/"
        },
        "id": "s1P0bVNhmeSo",
        "outputId": "c7866290-61ea-4488-f482-b6527837b53b"
      },
      "execution_count": 61,
      "outputs": [
        {
          "output_type": "execute_result",
          "data": {
            "text/plain": [
              "[array(['kashmir', 'autumn', {\n",
              "                                 \"class\" : \"Distribution\",\n",
              "                                 \"dtype\" : \"str\",\n",
              "                                 \"name\" : \"DiscreteDistribution\",\n",
              "                                 \"parameters\" : [\n",
              "                                     {\n",
              "                                         \"apple\" : 0.45665445665444804,\n",
              "                                         \"banana\" : 0.543345543345552\n",
              "                                     }\n",
              "                                 ],\n",
              "                                 \"frozen\" : false\n",
              "                             }                                         ,\n",
              "        'green', 'long'], dtype=object)]"
            ]
          },
          "metadata": {},
          "execution_count": 61
        }
      ]
    },
    {
      "cell_type": "markdown",
      "source": [
        "2."
      ],
      "metadata": {
        "id": "cI6wx2F7zQ7q"
      }
    },
    {
      "cell_type": "code",
      "source": [
        "model.predict_proba([['kashmir', 'autumn', None, 'green', None]])"
      ],
      "metadata": {
        "colab": {
          "base_uri": "https://localhost:8080/"
        },
        "id": "w-yJZk1cmfBu",
        "outputId": "6b886da8-c6d9-4c68-ba1f-307eb96752cf"
      },
      "execution_count": 62,
      "outputs": [
        {
          "output_type": "execute_result",
          "data": {
            "text/plain": [
              "[array(['kashmir', 'autumn', {\n",
              "                                 \"class\" : \"Distribution\",\n",
              "                                 \"dtype\" : \"str\",\n",
              "                                 \"name\" : \"DiscreteDistribution\",\n",
              "                                 \"parameters\" : [\n",
              "                                     {\n",
              "                                         \"apple\" : 0.9866627583174549,\n",
              "                                         \"banana\" : 0.013337241682545062\n",
              "                                     }\n",
              "                                 ],\n",
              "                                 \"frozen\" : false\n",
              "                             }                                          ,\n",
              "        'green', {\n",
              "                     \"class\" : \"Distribution\",\n",
              "                     \"dtype\" : \"str\",\n",
              "                     \"name\" : \"DiscreteDistribution\",\n",
              "                     \"parameters\" : [\n",
              "                         {\n",
              "                             \"round\" : 0.9759929649714195,\n",
              "                             \"long\" : 0.024007035028580512\n",
              "                         }\n",
              "                     ],\n",
              "                     \"frozen\" : false\n",
              "                 }                                        ], dtype=object)]"
            ]
          },
          "metadata": {},
          "execution_count": 62
        }
      ]
    },
    {
      "cell_type": "markdown",
      "source": [
        "3."
      ],
      "metadata": {
        "id": "GQSscovAzSoI"
      }
    },
    {
      "cell_type": "code",
      "source": [
        "model.predict_proba([[None, None, None, 'yellow', None]])"
      ],
      "metadata": {
        "colab": {
          "base_uri": "https://localhost:8080/"
        },
        "id": "siKmA_CGmiLp",
        "outputId": "b403b323-b7ec-40e0-a107-9a4419ca87f9"
      },
      "execution_count": 63,
      "outputs": [
        {
          "output_type": "execute_result",
          "data": {
            "text/plain": [
              "[array([{\n",
              "            \"class\" : \"Distribution\",\n",
              "            \"dtype\" : \"str\",\n",
              "            \"name\" : \"DiscreteDistribution\",\n",
              "            \"parameters\" : [\n",
              "                {\n",
              "                    \"tamilnadu\" : 0.9567532079976121,\n",
              "                    \"kashmir\" : 0.043246792002387915\n",
              "                }\n",
              "            ],\n",
              "            \"frozen\" : false\n",
              "        }                                            ,\n",
              "        {\n",
              "            \"class\" : \"Distribution\",\n",
              "            \"dtype\" : \"str\",\n",
              "            \"name\" : \"DiscreteDistribution\",\n",
              "            \"parameters\" : [\n",
              "                {\n",
              "                    \"autumn\" : 0.5029304685168606,\n",
              "                    \"spring\" : 0.49706953148313937\n",
              "                }\n",
              "            ],\n",
              "            \"frozen\" : false\n",
              "        }                                         ,\n",
              "        {\n",
              "            \"class\" : \"Distribution\",\n",
              "            \"dtype\" : \"str\",\n",
              "            \"name\" : \"DiscreteDistribution\",\n",
              "            \"parameters\" : [\n",
              "                {\n",
              "                    \"apple\" : 0.038675022381379105,\n",
              "                    \"banana\" : 0.9613249776186209\n",
              "                }\n",
              "            ],\n",
              "            \"frozen\" : false\n",
              "        }                                          , 'yellow',\n",
              "        {\n",
              "            \"class\" : \"Distribution\",\n",
              "            \"dtype\" : \"str\",\n",
              "            \"name\" : \"DiscreteDistribution\",\n",
              "            \"parameters\" : [\n",
              "                {\n",
              "                    \"round\" : 0.05937332139659846,\n",
              "                    \"long\" : 0.9406266786034015\n",
              "                }\n",
              "            ],\n",
              "            \"frozen\" : false\n",
              "        }                                         ], dtype=object)]"
            ]
          },
          "metadata": {},
          "execution_count": 63
        }
      ]
    },
    {
      "cell_type": "markdown",
      "source": [
        "4."
      ],
      "metadata": {
        "id": "3bq4E_Z9zUT4"
      }
    },
    {
      "cell_type": "code",
      "source": [
        "model.predict_proba([[None, 'spring', None, None, None]])"
      ],
      "metadata": {
        "colab": {
          "base_uri": "https://localhost:8080/"
        },
        "id": "HSFIxAL_mlTX",
        "outputId": "7d7fa0f8-5e29-49b6-a19f-0ee0f86192ef"
      },
      "execution_count": 64,
      "outputs": [
        {
          "output_type": "execute_result",
          "data": {
            "text/plain": [
              "[array([{\n",
              "            \"class\" : \"Distribution\",\n",
              "            \"dtype\" : \"str\",\n",
              "            \"name\" : \"DiscreteDistribution\",\n",
              "            \"parameters\" : [\n",
              "                {\n",
              "                    \"tamilnadu\" : 0.48250229986039106,\n",
              "                    \"kashmir\" : 0.5174977001396089\n",
              "                }\n",
              "            ],\n",
              "            \"frozen\" : false\n",
              "        }                                             , 'spring',\n",
              "        {\n",
              "            \"class\" : \"Distribution\",\n",
              "            \"dtype\" : \"str\",\n",
              "            \"name\" : \"DiscreteDistribution\",\n",
              "            \"parameters\" : [\n",
              "                {\n",
              "                    \"apple\" : 0.5233783558230135,\n",
              "                    \"banana\" : 0.4766216441769864\n",
              "                }\n",
              "            ],\n",
              "            \"frozen\" : false\n",
              "        }                                        ,\n",
              "        {\n",
              "            \"class\" : \"Distribution\",\n",
              "            \"dtype\" : \"str\",\n",
              "            \"name\" : \"DiscreteDistribution\",\n",
              "            \"parameters\" : [\n",
              "                {\n",
              "                    \"yellow\" : 0.26939743010818085,\n",
              "                    \"red\" : 0.34718899482838705,\n",
              "                    \"green\" : 0.3834135750634321\n",
              "                }\n",
              "            ],\n",
              "            \"frozen\" : false\n",
              "        }                                          ,\n",
              "        {\n",
              "            \"class\" : \"Distribution\",\n",
              "            \"dtype\" : \"str\",\n",
              "            \"name\" : \"DiscreteDistribution\",\n",
              "            \"parameters\" : [\n",
              "                {\n",
              "                    \"round\" : 0.5280382417292363,\n",
              "                    \"long\" : 0.4719617582707638\n",
              "                }\n",
              "            ],\n",
              "            \"frozen\" : false\n",
              "        }                                        ], dtype=object)]"
            ]
          },
          "metadata": {},
          "execution_count": 64
        }
      ]
    },
    {
      "cell_type": "markdown",
      "source": [
        "5."
      ],
      "metadata": {
        "id": "tVSkQNMszWcr"
      }
    },
    {
      "cell_type": "code",
      "source": [
        "model.predict_proba([[None, None, None, None, 'round']])"
      ],
      "metadata": {
        "colab": {
          "base_uri": "https://localhost:8080/"
        },
        "id": "FZWogKQDmo6o",
        "outputId": "5a9bb8bb-db87-4b0e-c8f2-c3c73b9f5010"
      },
      "execution_count": 65,
      "outputs": [
        {
          "output_type": "execute_result",
          "data": {
            "text/plain": [
              "[array([{\n",
              "            \"class\" : \"Distribution\",\n",
              "            \"dtype\" : \"str\",\n",
              "            \"name\" : \"DiscreteDistribution\",\n",
              "            \"parameters\" : [\n",
              "                {\n",
              "                    \"tamilnadu\" : 0.041403427142327864,\n",
              "                    \"kashmir\" : 0.9585965728576721\n",
              "                }\n",
              "            ],\n",
              "            \"frozen\" : false\n",
              "        }                                              ,\n",
              "        {\n",
              "            \"class\" : \"Distribution\",\n",
              "            \"dtype\" : \"str\",\n",
              "            \"name\" : \"DiscreteDistribution\",\n",
              "            \"parameters\" : [\n",
              "                {\n",
              "                    \"autumn\" : 0.5055016757664541,\n",
              "                    \"spring\" : 0.4944983242335458\n",
              "                }\n",
              "            ],\n",
              "            \"frozen\" : false\n",
              "        }                                         ,\n",
              "        {\n",
              "            \"class\" : \"Distribution\",\n",
              "            \"dtype\" : \"str\",\n",
              "            \"name\" : \"DiscreteDistribution\",\n",
              "            \"parameters\" : [\n",
              "                {\n",
              "                    \"apple\" : 0.9802688496463076,\n",
              "                    \"banana\" : 0.019731150353692342\n",
              "                }\n",
              "            ],\n",
              "            \"frozen\" : false\n",
              "        }                                          ,\n",
              "        {\n",
              "            \"class\" : \"Distribution\",\n",
              "            \"dtype\" : \"str\",\n",
              "            \"name\" : \"DiscreteDistribution\",\n",
              "            \"parameters\" : [\n",
              "                {\n",
              "                    \"yellow\" : 0.03013471562861267,\n",
              "                    \"red\" : 0.6312950294077017,\n",
              "                    \"green\" : 0.3385702549636857\n",
              "                }\n",
              "            ],\n",
              "            \"frozen\" : false\n",
              "        }                                          , 'round'], dtype=object)]"
            ]
          },
          "metadata": {},
          "execution_count": 65
        }
      ]
    },
    {
      "cell_type": "markdown",
      "source": [
        "6."
      ],
      "metadata": {
        "id": "eE-AMkkAzYC2"
      }
    },
    {
      "cell_type": "code",
      "source": [
        "model.predict_proba([['tamilnadu', 'spring', None, 'red', None]])"
      ],
      "metadata": {
        "colab": {
          "base_uri": "https://localhost:8080/"
        },
        "id": "m4x_mVuImr5L",
        "outputId": "897f26b6-8d57-4321-cc0d-5c3d2dca59a9"
      },
      "execution_count": 66,
      "outputs": [
        {
          "output_type": "execute_result",
          "data": {
            "text/plain": [
              "[array(['tamilnadu', 'spring', {\n",
              "                                   \"class\" : \"Distribution\",\n",
              "                                   \"dtype\" : \"str\",\n",
              "                                   \"name\" : \"DiscreteDistribution\",\n",
              "                                   \"parameters\" : [\n",
              "                                       {\n",
              "                                           \"apple\" : 0.2675386444708742,\n",
              "                                           \"banana\" : 0.7324613555291258\n",
              "                                       }\n",
              "                                   ],\n",
              "                                   \"frozen\" : false\n",
              "                               }                                        ,\n",
              "        'red', {\n",
              "                   \"class\" : \"Distribution\",\n",
              "                   \"dtype\" : \"str\",\n",
              "                   \"name\" : \"DiscreteDistribution\",\n",
              "                   \"parameters\" : [\n",
              "                       {\n",
              "                           \"round\" : 0.28066404463551314,\n",
              "                           \"long\" : 0.7193359553644868\n",
              "                       }\n",
              "                   ],\n",
              "                   \"frozen\" : false\n",
              "               }                                         ], dtype=object)]"
            ]
          },
          "metadata": {},
          "execution_count": 66
        }
      ]
    },
    {
      "cell_type": "markdown",
      "source": [
        "Visualize the network topology in a graphic form. Use appropriate visualization tools, e.g., pygraphviz.\n"
      ],
      "metadata": {
        "id": "0tqd0flNo119"
      }
    },
    {
      "cell_type": "code",
      "source": [
        "!pip install graphviz"
      ],
      "metadata": {
        "colab": {
          "base_uri": "https://localhost:8080/"
        },
        "id": "bI-d5RVQmvSs",
        "outputId": "6582f840-405f-4802-be79-8d27a2ad2bae"
      },
      "execution_count": 67,
      "outputs": [
        {
          "output_type": "stream",
          "name": "stdout",
          "text": [
            "Looking in indexes: https://pypi.org/simple, https://us-python.pkg.dev/colab-wheels/public/simple/\n",
            "Requirement already satisfied: graphviz in /usr/local/lib/python3.7/dist-packages (0.10.1)\n"
          ]
        }
      ]
    },
    {
      "cell_type": "code",
      "source": [
        "import graphviz  \n",
        "g= graphviz.Digraph(comment='Biological Vision Assignment 3')\n",
        "g  \n",
        "g.node('P', 'Place')  \n",
        "g.node('S', 'Season')\n",
        "g.node('F', 'Fruit')\n",
        "g.node('C', 'Color')\n",
        "g.node('H', 'Shape')\n",
        "g.edges(['PF', 'SF', 'FC', 'FH'])\n",
        "print(np.source)  "
      ],
      "metadata": {
        "colab": {
          "base_uri": "https://localhost:8080/"
        },
        "id": "QeoBZ5P_myyY",
        "outputId": "7bfb878b-4f90-46dd-b5c2-20a2f10136a3"
      },
      "execution_count": 68,
      "outputs": [
        {
          "output_type": "stream",
          "name": "stdout",
          "text": [
            "<function source at 0x7f6ab06ae710>\n"
          ]
        }
      ]
    },
    {
      "cell_type": "code",
      "source": [
        "g.render('output/graph.gv').replace('\\\\', '/')\n",
        "'output/graph.gv.pdf'"
      ],
      "metadata": {
        "colab": {
          "base_uri": "https://localhost:8080/",
          "height": 36
        },
        "id": "wCaNGounm4Er",
        "outputId": "9addd6a1-0b3c-4b7d-b2d8-819937f0551e"
      },
      "execution_count": 69,
      "outputs": [
        {
          "output_type": "execute_result",
          "data": {
            "text/plain": [
              "'output/graph.gv.pdf'"
            ],
            "application/vnd.google.colaboratory.intrinsic+json": {
              "type": "string"
            }
          },
          "metadata": {},
          "execution_count": 69
        }
      ]
    }
  ]
}