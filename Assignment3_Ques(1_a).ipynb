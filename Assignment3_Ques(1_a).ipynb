{
  "nbformat": 4,
  "nbformat_minor": 0,
  "metadata": {
    "colab": {
      "name": "Assignment3_Ques(1-a)",
      "provenance": [],
      "collapsed_sections": [],
      "include_colab_link": true
    },
    "kernelspec": {
      "name": "python3",
      "display_name": "Python 3"
    },
    "language_info": {
      "name": "python"
    }
  },
  "cells": [
    {
      "cell_type": "markdown",
      "metadata": {
        "id": "view-in-github",
        "colab_type": "text"
      },
      "source": [
        "<a href=\"https://colab.research.google.com/github/joshikavita01/streamlit-demo/blob/master/Assignment3_Ques(1_a).ipynb\" target=\"_parent\"><img src=\"https://colab.research.google.com/assets/colab-badge.svg\" alt=\"Open In Colab\"/></a>"
      ]
    },
    {
      "cell_type": "markdown",
      "source": [
        "**Question 1: Image Classification using Handcrafted and Deep Features**"
      ],
      "metadata": {
        "id": "pmfQtCR_m7WN"
      }
    },
    {
      "cell_type": "markdown",
      "source": [
        "**(a) HOG features**"
      ],
      "metadata": {
        "id": "w81D3X1YnBPe"
      }
    },
    {
      "cell_type": "code",
      "execution_count": null,
      "metadata": {
        "id": "YotmyKFW7_at"
      },
      "outputs": [],
      "source": [
        "import keras\n",
        "import tensorflow as tf\n",
        "import cv2\n",
        "from skimage.feature import hog\n",
        "import numpy as np\n",
        "import pandas as pd\n",
        "import matplotlib.pyplot as plt\n",
        "from tensorflow.keras.callbacks import EarlyStopping"
      ]
    },
    {
      "cell_type": "code",
      "source": [
        "(train_x, train_y), (test_x, test_y) = tf.keras.datasets.cifar10.load_data()\n",
        "assert train_x.shape == (50000, 32, 32, 3)\n",
        "assert test_x.shape == (10000, 32, 32, 3)\n",
        "assert train_y.shape == (50000, 1)\n",
        "assert test_y.shape == (10000, 1)"
      ],
      "metadata": {
        "id": "8BTR93EdpS1f"
      },
      "execution_count": null,
      "outputs": []
    },
    {
      "cell_type": "code",
      "source": [
        "train_x = [ cv2.cvtColor(train_x[i],cv2.COLOR_BGR2GRAY) for i in range(len(train_x))]\n",
        "test_x  = [ cv2.cvtColor(test_x[i],cv2.COLOR_BGR2GRAY) for i in range(len(test_x))]"
      ],
      "metadata": {
        "id": "D-7Rav3CbGV1"
      },
      "execution_count": null,
      "outputs": []
    },
    {
      "cell_type": "code",
      "source": [
        "train_x= np.asarray(train_x)\n",
        "test_x = np.asarray(test_x)"
      ],
      "metadata": {
        "id": "SZTJgjDQtAen"
      },
      "execution_count": null,
      "outputs": []
    },
    {
      "cell_type": "code",
      "source": [
        "bn = 'L2-Hys'    \n",
        "ornts = 9          \n",
        "ppc = [8, 8]  \n",
        "cpb = [2, 2]\n",
        "def Extract_feature(img, vis=False):\n",
        "    return hog(img, ornts, ppc, cpb, bn, visualize=vis, transform_sqrt=True)"
      ],
      "metadata": {
        "id": "XZCH7uUlfxbr"
      },
      "execution_count": null,
      "outputs": []
    },
    {
      "cell_type": "code",
      "source": [
        "training_X = np.array( [ Extract_feature(train_x[i], vis=False) for i in range(len(train_x)) ] )\n",
        "testing_X= np.array( [ Extract_feature(test_x[i], vis=False) for i in range(len(test_x)) ] )"
      ],
      "metadata": {
        "id": "4DK7On2phL1N"
      },
      "execution_count": null,
      "outputs": []
    },
    {
      "cell_type": "code",
      "source": [
        "df_train_y = pd.DataFrame(train_y)\n",
        "training_y = pd.get_dummies(df_train_y [0])\n",
        "df_test_y = pd.DataFrame(test_y)\n",
        "testing_y = pd.get_dummies(df_test_y[0])"
      ],
      "metadata": {
        "id": "KNODBOpGzpFJ"
      },
      "execution_count": null,
      "outputs": []
    },
    {
      "cell_type": "code",
      "source": [
        "model= tf.keras.models.Sequential(\n",
        "    [tf.keras.layers.Dense(324, activation='relu'),\n",
        "     tf.keras.layers.Dense(128, activation='relu'),\n",
        "     tf.keras.layers.Dense(10, activation='softmax')]\n",
        ")"
      ],
      "metadata": {
        "id": "31ylpTL-xLWJ"
      },
      "execution_count": null,
      "outputs": []
    },
    {
      "cell_type": "code",
      "source": [
        "model.compile(optimizer='adam', loss='categorical_crossentropy', metrics=['accuracy'])"
      ],
      "metadata": {
        "id": "pqDSfpFSxYGY"
      },
      "execution_count": null,
      "outputs": []
    },
    {
      "cell_type": "code",
      "source": [
        "model.build(training_X.shape)\n",
        "model.summary()"
      ],
      "metadata": {
        "colab": {
          "base_uri": "https://localhost:8080/"
        },
        "id": "SuAKRstDxvEq",
        "outputId": "a1abbd60-3ac0-479d-bc24-c8a28abe349f"
      },
      "execution_count": null,
      "outputs": [
        {
          "output_type": "stream",
          "name": "stdout",
          "text": [
            "Model: \"sequential_1\"\n",
            "_________________________________________________________________\n",
            " Layer (type)                Output Shape              Param #   \n",
            "=================================================================\n",
            " dense_3 (Dense)             (50000, 324)              105300    \n",
            "                                                                 \n",
            " dense_4 (Dense)             (50000, 128)              41600     \n",
            "                                                                 \n",
            " dense_5 (Dense)             (50000, 10)               1290      \n",
            "                                                                 \n",
            "=================================================================\n",
            "Total params: 148,190\n",
            "Trainable params: 148,190\n",
            "Non-trainable params: 0\n",
            "_________________________________________________________________\n"
          ]
        }
      ]
    },
    {
      "cell_type": "code",
      "source": [
        "\n",
        "\n",
        "callbacks = [EarlyStopping(monitor='val_loss', patience=8)]\n",
        "history = model.fit(training_X, training_y,\n",
        "            epochs=100,\n",
        "            callbacks = callbacks,\n",
        "            validation_data=(testing_X, testing_y),\n",
        "            verbose=2,\n",
        "            batch_size=64)"
      ],
      "metadata": {
        "colab": {
          "base_uri": "https://localhost:8080/"
        },
        "id": "pm4aPMepyHir",
        "outputId": "22eb6a76-3a4f-4b75-e9d3-91fa22cdb679"
      },
      "execution_count": null,
      "outputs": [
        {
          "output_type": "stream",
          "name": "stdout",
          "text": [
            "Epoch 1/100\n",
            "782/782 - 4s - loss: 1.5254 - accuracy: 0.4610 - val_loss: 1.4271 - val_accuracy: 0.5016 - 4s/epoch - 5ms/step\n",
            "Epoch 2/100\n",
            "782/782 - 3s - loss: 1.3094 - accuracy: 0.5414 - val_loss: 1.2857 - val_accuracy: 0.5466 - 3s/epoch - 4ms/step\n",
            "Epoch 3/100\n",
            "782/782 - 3s - loss: 1.2217 - accuracy: 0.5731 - val_loss: 1.2142 - val_accuracy: 0.5751 - 3s/epoch - 4ms/step\n",
            "Epoch 4/100\n",
            "782/782 - 3s - loss: 1.1630 - accuracy: 0.5933 - val_loss: 1.1850 - val_accuracy: 0.5871 - 3s/epoch - 4ms/step\n",
            "Epoch 5/100\n",
            "782/782 - 3s - loss: 1.1108 - accuracy: 0.6098 - val_loss: 1.1773 - val_accuracy: 0.5881 - 3s/epoch - 4ms/step\n",
            "Epoch 6/100\n",
            "782/782 - 3s - loss: 1.0678 - accuracy: 0.6253 - val_loss: 1.1601 - val_accuracy: 0.5938 - 3s/epoch - 4ms/step\n",
            "Epoch 7/100\n",
            "782/782 - 4s - loss: 1.0354 - accuracy: 0.6370 - val_loss: 1.1331 - val_accuracy: 0.6046 - 4s/epoch - 5ms/step\n",
            "Epoch 8/100\n",
            "782/782 - 3s - loss: 1.0026 - accuracy: 0.6516 - val_loss: 1.1367 - val_accuracy: 0.6045 - 3s/epoch - 4ms/step\n",
            "Epoch 9/100\n",
            "782/782 - 3s - loss: 0.9707 - accuracy: 0.6605 - val_loss: 1.1342 - val_accuracy: 0.6060 - 3s/epoch - 4ms/step\n",
            "Epoch 10/100\n",
            "782/782 - 3s - loss: 0.9451 - accuracy: 0.6688 - val_loss: 1.1257 - val_accuracy: 0.6092 - 3s/epoch - 4ms/step\n",
            "Epoch 11/100\n",
            "782/782 - 3s - loss: 0.9152 - accuracy: 0.6785 - val_loss: 1.1491 - val_accuracy: 0.6086 - 3s/epoch - 4ms/step\n",
            "Epoch 12/100\n",
            "782/782 - 3s - loss: 0.8866 - accuracy: 0.6897 - val_loss: 1.1389 - val_accuracy: 0.6132 - 3s/epoch - 4ms/step\n",
            "Epoch 13/100\n",
            "782/782 - 3s - loss: 0.8636 - accuracy: 0.6983 - val_loss: 1.1435 - val_accuracy: 0.6145 - 3s/epoch - 4ms/step\n",
            "Epoch 14/100\n",
            "782/782 - 3s - loss: 0.8377 - accuracy: 0.7077 - val_loss: 1.1640 - val_accuracy: 0.6054 - 3s/epoch - 4ms/step\n",
            "Epoch 15/100\n",
            "782/782 - 3s - loss: 0.8134 - accuracy: 0.7161 - val_loss: 1.1658 - val_accuracy: 0.6094 - 3s/epoch - 4ms/step\n",
            "Epoch 16/100\n",
            "782/782 - 3s - loss: 0.7848 - accuracy: 0.7257 - val_loss: 1.1883 - val_accuracy: 0.6081 - 3s/epoch - 4ms/step\n",
            "Epoch 17/100\n",
            "782/782 - 3s - loss: 0.7623 - accuracy: 0.7338 - val_loss: 1.1673 - val_accuracy: 0.6104 - 3s/epoch - 4ms/step\n",
            "Epoch 18/100\n",
            "782/782 - 3s - loss: 0.7361 - accuracy: 0.7420 - val_loss: 1.2102 - val_accuracy: 0.6046 - 3s/epoch - 4ms/step\n"
          ]
        }
      ]
    }
  ]
}