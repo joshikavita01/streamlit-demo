{
  "cells": [
    {
      "cell_type": "markdown",
      "metadata": {
        "id": "view-in-github",
        "colab_type": "text"
      },
      "source": [
        "<a href=\"https://colab.research.google.com/github/joshikavita01/streamlit-demo/blob/master/Assignment3_Ques(1c).ipynb\" target=\"_parent\"><img src=\"https://colab.research.google.com/assets/colab-badge.svg\" alt=\"Open In Colab\"/></a>"
      ]
    },
    {
      "cell_type": "markdown",
      "metadata": {
        "id": "IxFHJ1fzrNtV"
      },
      "source": [
        "**Question 1: Image Classification using Handcrafted and Deep Features**"
      ]
    },
    {
      "cell_type": "markdown",
      "metadata": {
        "id": "8-TkbWwRrWBS"
      },
      "source": [
        "**(c) Use AlexNet pre-trained on Imagenet to extract the 4096-d feature vector)**"
      ]
    },
    {
      "cell_type": "code",
      "execution_count": null,
      "metadata": {
        "id": "zz1Kew1_2Uvu"
      },
      "outputs": [],
      "source": [
        "import torch\n",
        "import torchvision\n",
        "import torch.nn as nn\n",
        "import torchvision.transforms as transforms\n",
        "import torch.nn.functional as F\n",
        "import torch.optim as optim"
      ]
    },
    {
      "cell_type": "code",
      "execution_count": null,
      "metadata": {
        "id": "a-GzLJPc2jEo"
      },
      "outputs": [],
      "source": [
        "transform = transforms.Compose([\n",
        "    transforms.Resize(256),\n",
        "    transforms.CenterCrop(224),\n",
        "    transforms.ToTensor(),\n",
        "    transforms.Normalize(mean=[0.485, 0.456, 0.406], std=[0.229, 0.224, 0.225]),\n",
        "])"
      ]
    },
    {
      "cell_type": "code",
      "execution_count": null,
      "metadata": {
        "colab": {
          "base_uri": "https://localhost:8080/"
        },
        "id": "Ch7G9qCSWtYU",
        "outputId": "39486a88-cea8-4226-fa76-6bf5266290c1"
      },
      "outputs": [
        {
          "name": "stdout",
          "output_type": "stream",
          "text": [
            "cuda:0\n"
          ]
        }
      ],
      "source": [
        "device = torch.device(\"cuda:0\" if torch.cuda.is_available() else \"cpu\")\n",
        "print(device)"
      ]
    },
    {
      "cell_type": "code",
      "execution_count": null,
      "metadata": {
        "colab": {
          "base_uri": "https://localhost:8080/"
        },
        "id": "znqWUzHB2p8G",
        "outputId": "abb3e784-fafb-4750-b1b2-60aa6a7497c6"
      },
      "outputs": [
        {
          "name": "stdout",
          "output_type": "stream",
          "text": [
            "Files already downloaded and verified\n",
            "Files already downloaded and verified\n"
          ]
        }
      ],
      "source": [
        "training_data = torchvision.datasets.CIFAR10(root='./data', train=True, download=True, transform=transform)\n",
        "train_loader = torch.utils.data.DataLoader(training_data, batch_size=4, shuffle=True, num_workers=2)\n",
        "#test data\n",
        "testing_data = torchvision.datasets.CIFAR10(root='./data', train=False, download=True, transform=transform)\n",
        "test_loader = torch.utils.data.DataLoader(testing_data, batch_size=1, shuffle=False, num_workers=2)\n",
        "#Class labels\n",
        "classes = ('Airplane', 'Car', 'Bird', 'Cat', 'Deer', 'Dog', 'Frog', 'Horse', 'Ship', 'Truck')"
      ]
    },
    {
      "cell_type": "code",
      "execution_count": null,
      "metadata": {
        "id": "R7lRE1FE2r4_"
      },
      "outputs": [],
      "source": [
        "import torch\n",
        "import torch.nn as nn\n",
        "from torchvision import models\n",
        "m = models.alexnet(pretrained=True)\n",
        "new_classifier = nn.Sequential(*list(m.classifier.children())[:-1])\n",
        "m.classifier = new_classifier"
      ]
    },
    {
      "cell_type": "code",
      "execution_count": null,
      "metadata": {
        "colab": {
          "base_uri": "https://localhost:8080/"
        },
        "id": "Obfpnwi9Frhj",
        "outputId": "dfa36b4e-ace4-4476-dbd4-c4299e4fe6c3"
      },
      "outputs": [
        {
          "data": {
            "text/plain": [
              "AlexNet(\n",
              "  (features): Sequential(\n",
              "    (0): Conv2d(3, 64, kernel_size=(11, 11), stride=(4, 4), padding=(2, 2))\n",
              "    (1): ReLU(inplace=True)\n",
              "    (2): MaxPool2d(kernel_size=3, stride=2, padding=0, dilation=1, ceil_mode=False)\n",
              "    (3): Conv2d(64, 192, kernel_size=(5, 5), stride=(1, 1), padding=(2, 2))\n",
              "    (4): ReLU(inplace=True)\n",
              "    (5): MaxPool2d(kernel_size=3, stride=2, padding=0, dilation=1, ceil_mode=False)\n",
              "    (6): Conv2d(192, 384, kernel_size=(3, 3), stride=(1, 1), padding=(1, 1))\n",
              "    (7): ReLU(inplace=True)\n",
              "    (8): Conv2d(384, 256, kernel_size=(3, 3), stride=(1, 1), padding=(1, 1))\n",
              "    (9): ReLU(inplace=True)\n",
              "    (10): Conv2d(256, 256, kernel_size=(3, 3), stride=(1, 1), padding=(1, 1))\n",
              "    (11): ReLU(inplace=True)\n",
              "    (12): MaxPool2d(kernel_size=3, stride=2, padding=0, dilation=1, ceil_mode=False)\n",
              "  )\n",
              "  (avgpool): AdaptiveAvgPool2d(output_size=(6, 6))\n",
              "  (classifier): Sequential(\n",
              "    (0): Dropout(p=0.5, inplace=False)\n",
              "    (1): Linear(in_features=9216, out_features=4096, bias=True)\n",
              "    (2): ReLU(inplace=True)\n",
              "    (3): Dropout(p=0.5, inplace=False)\n",
              "    (4): Linear(in_features=4096, out_features=4096, bias=True)\n",
              "    (5): ReLU(inplace=True)\n",
              "  )\n",
              ")"
            ]
          },
          "execution_count": 101,
          "metadata": {},
          "output_type": "execute_result"
        }
      ],
      "source": [
        "m.eval()"
      ]
    },
    {
      "cell_type": "code",
      "execution_count": null,
      "metadata": {
        "colab": {
          "base_uri": "https://localhost:8080/"
        },
        "id": "KNJi6DxzXe3R",
        "outputId": "18c7d718-10ad-46d4-e985-88b405571d72"
      },
      "outputs": [
        {
          "data": {
            "text/plain": [
              "AlexNet(\n",
              "  (features): Sequential(\n",
              "    (0): Conv2d(3, 64, kernel_size=(11, 11), stride=(4, 4), padding=(2, 2))\n",
              "    (1): ReLU(inplace=True)\n",
              "    (2): MaxPool2d(kernel_size=3, stride=2, padding=0, dilation=1, ceil_mode=False)\n",
              "    (3): Conv2d(64, 192, kernel_size=(5, 5), stride=(1, 1), padding=(2, 2))\n",
              "    (4): ReLU(inplace=True)\n",
              "    (5): MaxPool2d(kernel_size=3, stride=2, padding=0, dilation=1, ceil_mode=False)\n",
              "    (6): Conv2d(192, 384, kernel_size=(3, 3), stride=(1, 1), padding=(1, 1))\n",
              "    (7): ReLU(inplace=True)\n",
              "    (8): Conv2d(384, 256, kernel_size=(3, 3), stride=(1, 1), padding=(1, 1))\n",
              "    (9): ReLU(inplace=True)\n",
              "    (10): Conv2d(256, 256, kernel_size=(3, 3), stride=(1, 1), padding=(1, 1))\n",
              "    (11): ReLU(inplace=True)\n",
              "    (12): MaxPool2d(kernel_size=3, stride=2, padding=0, dilation=1, ceil_mode=False)\n",
              "  )\n",
              "  (avgpool): AdaptiveAvgPool2d(output_size=(6, 6))\n",
              "  (classifier): Sequential(\n",
              "    (0): Dropout(p=0.5, inplace=False)\n",
              "    (1): Linear(in_features=9216, out_features=4096, bias=True)\n",
              "    (2): ReLU(inplace=True)\n",
              "    (3): Dropout(p=0.5, inplace=False)\n",
              "    (4): Linear(in_features=4096, out_features=4096, bias=True)\n",
              "    (5): ReLU(inplace=True)\n",
              "  )\n",
              ")"
            ]
          },
          "execution_count": 102,
          "metadata": {},
          "output_type": "execute_result"
        }
      ],
      "source": [
        "m.to(device)"
      ]
    },
    {
      "cell_type": "code",
      "execution_count": null,
      "metadata": {
        "id": "llOXVant6DdT"
      },
      "outputs": [],
      "source": [
        "@torch.no_grad()\n",
        "def get_predictions(model, loader):\n",
        "  _predictions = torch.tensor([])\n",
        "  _predictions =_predictions.to(device)\n",
        "  for batch in loader:\n",
        "    images, labels = batch\n",
        "    images, labels = images.to(device), labels.to(device)\n",
        "\n",
        "    predictions = model(images)\n",
        "    _predictions = torch.cat((_predictions, predictions),dim=0)\n",
        "\n",
        "  return _predictions\n",
        "\n",
        "\n",
        "pred_output = get_predictions(m,test_loader)\n"
      ]
    },
    {
      "cell_type": "code",
      "execution_count": null,
      "metadata": {
        "id": "LCF_BQHlLScS"
      },
      "outputs": [],
      "source": [
        "class Network(nn.Module):\n",
        "  def __init__(self):\n",
        "    super(Network,self).__init__()\n",
        "    \n",
        "\n",
        "    self.fc1 = nn.Linear(in_features=4096, out_features=2048)\n",
        "    self.fc2 = nn.Linear(in_features=2048, out_features=1024)\n",
        "    self.out = nn.Linear(in_features=1024, out_features=10)\n",
        "\n",
        "  def forward(self, t):\n",
        "\n",
        "    t = t.reshape(-1, 4096)\n",
        "    t = self.fc1(t)\n",
        "    t = F.relu(t)\n",
        "    \n",
        "    t = self.fc2(t)\n",
        "    t = F.relu(t)\n",
        "    \n",
        "    t = self.out(t)#output shape : (1,10)\n",
        "\n",
        "    return t\n",
        "\n",
        "network = Network()"
      ]
    },
    {
      "cell_type": "code",
      "execution_count": null,
      "metadata": {
        "colab": {
          "base_uri": "https://localhost:8080/"
        },
        "id": "fwkXc_TRMdlj",
        "outputId": "a79eedbd-1c25-4fe0-987b-a5ab6cfeead3"
      },
      "outputs": [
        {
          "data": {
            "text/plain": [
              "Network(\n",
              "  (fc1): Linear(in_features=4096, out_features=2048, bias=True)\n",
              "  (fc2): Linear(in_features=2048, out_features=1024, bias=True)\n",
              "  (out): Linear(in_features=1024, out_features=10, bias=True)\n",
              ")"
            ]
          },
          "execution_count": 105,
          "metadata": {},
          "output_type": "execute_result"
        }
      ],
      "source": [
        "network.eval()\n",
        "network.to(device)"
      ]
    },
    {
      "cell_type": "code",
      "execution_count": null,
      "metadata": {
        "id": "7o-axpKFMvaM"
      },
      "outputs": [],
      "source": [
        "optimizer = optim.Adam(network.parameters(), lr=0.001, betas=(0.9, 0.999), eps=1e-08, weight_decay=0)"
      ]
    },
    {
      "cell_type": "code",
      "execution_count": null,
      "metadata": {
        "colab": {
          "background_save": true,
          "base_uri": "https://localhost:8080/"
        },
        "id": "nC-_OdbzMzVr",
        "outputId": "debf5769-e934-4c2f-84f9-ed090db811f3"
      },
      "outputs": [
        {
          "name": "stdout",
          "output_type": "stream",
          "text": [
            "epoch: 0 correct- 6376 loss- 10754.829003707015\n",
            "epoch: 1 correct- 7550 loss- 7474.730597902918\n",
            "epoch: 2 correct- 7971 loss- 6314.235207741531\n",
            "epoch: 3 correct- 8276 loss- 5490.072930894035\n",
            "epoch: 4 correct- 8497 loss- 4811.76962735132\n",
            "epoch: 5 correct- 8677 loss- 4225.054617183378\n",
            "epoch: 6 correct- 8883 loss- 3731.2866737899435\n",
            "epoch: 7 correct- 8952 loss- 3549.9370229615092\n"
          ]
        }
      ],
      "source": [
        "for epoch in range(8):\n",
        "\n",
        "  _correct = 0\n",
        "  _loss = 0\n",
        "  for batch, img in zip(test_loader, pred_output): \n",
        "    imgs, labels = batch \n",
        "    img = img.to(device)\n",
        "    labels = labels.to(device)\n",
        "    preds = network(img) \n",
        "    loss = F.cross_entropy(preds, labels) \n",
        "\n",
        "    optimizer.zero_grad()\n",
        "    loss.backward() \n",
        "    optimizer.step() \n",
        "\n",
        "    _loss += loss.item()\n",
        "    _correct += preds.argmax(dim=1).eq(labels).sum().item()\n",
        "    \n",
        "  print('epoch:', epoch, \"correct-\",_correct, \"loss-\",_loss)\n",
        "\n"
      ]
    },
    {
      "cell_type": "code",
      "execution_count": null,
      "metadata": {
        "colab": {
          "background_save": true
        },
        "id": "rEP2UuOMdLet"
      },
      "outputs": [],
      "source": [
        "@torch.no_grad()\n",
        "def get_prediction(model, output):\n",
        "  all_predictions = torch.tensor([])\n",
        "  all_predictions = all_predictions.to(device)\n",
        "  for img in output:\n",
        "    img = img.to(device)\n",
        "    predictions = model(img)\n",
        "    all_predictions = torch.cat((all_predictions, predictions) ,dim=0)\n",
        "\n",
        "  return all_predictions"
      ]
    },
    {
      "cell_type": "code",
      "execution_count": null,
      "metadata": {
        "colab": {
          "background_save": true
        },
        "id": "VqtNM3dLdPvF",
        "outputId": "eb5faaf1-387d-44dc-c0ef-27c727531475"
      },
      "outputs": [
        {
          "name": "stdout",
          "output_type": "stream",
          "text": [
            "Correct- 9163\n",
            "Accuracy- 0.9163\n"
          ]
        }
      ],
      "source": [
        "testing_predictions = get_prediction(network, pred_output)\n",
        "actual_lbls = torch.Tensor(testing_data.targets)\n",
        "actual_lbls = actual_lbls.to(device)\n",
        "preds_correct =testing_predictions.argmax(dim=1).eq(actual_lbls).sum().item()\n",
        "\n",
        "print('Correct-', preds_correct)\n",
        "print('Accuracy-', preds_correct / len(testing_data))"
      ]
    }
  ],
  "metadata": {
    "accelerator": "GPU",
    "colab": {
      "collapsed_sections": [],
      "name": "Assignment3_Ques(1c)",
      "provenance": [],
      "include_colab_link": true
    },
    "kernelspec": {
      "display_name": "Python 3",
      "name": "python3"
    },
    "language_info": {
      "name": "python"
    }
  },
  "nbformat": 4,
  "nbformat_minor": 0
}